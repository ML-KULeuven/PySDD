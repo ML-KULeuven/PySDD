{
 "cells": [
  {
   "cell_type": "markdown",
   "metadata": {},
   "source": [
    "# PySDD: SDD Python Wrapper"
   ]
  },
  {
   "cell_type": "markdown",
   "metadata": {},
   "source": [
    "*Wannes Meert (KU Leuven), Arthur Choi (UCLA) - 2018*"
   ]
  },
  {
   "cell_type": "code",
   "execution_count": null,
   "metadata": {
    "ExecuteTime": {
     "end_time": "2018-03-17T00:38:37.021119Z",
     "start_time": "2018-03-17T00:38:37.015715Z"
    },
    "collapsed": true
   },
   "outputs": [],
   "source": [
    "import os, sys\n",
    "sys.path.append(os.pardir)"
   ]
  },
  {
   "cell_type": "code",
   "execution_count": null,
   "metadata": {
    "ExecuteTime": {
     "end_time": "2018-03-17T01:18:13.186698Z",
     "start_time": "2018-03-17T01:18:13.183568Z"
    }
   },
   "outputs": [],
   "source": [
    "from pysdd.sdd import Vtree, SddManager, WmcManager, Fnf"
   ]
  },
  {
   "cell_type": "code",
   "execution_count": null,
   "metadata": {
    "ExecuteTime": {
     "end_time": "2018-03-17T00:38:37.363149Z",
     "start_time": "2018-03-17T00:38:37.351934Z"
    },
    "collapsed": true
   },
   "outputs": [],
   "source": [
    "from array import array\n",
    "from graphviz import Source\n",
    "import math"
   ]
  },
  {
   "cell_type": "markdown",
   "metadata": {
    "heading_collapsed": true
   },
   "source": [
    "## Vtree"
   ]
  },
  {
   "cell_type": "code",
   "execution_count": null,
   "metadata": {
    "ExecuteTime": {
     "end_time": "2017-09-21T11:30:37.622617Z",
     "start_time": "2017-09-21T11:30:37.619100Z"
    },
    "collapsed": true,
    "hidden": true
   },
   "outputs": [],
   "source": [
    "vtree = Vtree(4)"
   ]
  },
  {
   "cell_type": "code",
   "execution_count": null,
   "metadata": {
    "ExecuteTime": {
     "end_time": "2017-09-21T11:30:37.628962Z",
     "start_time": "2017-09-21T11:30:37.624783Z"
    },
    "hidden": true
   },
   "outputs": [],
   "source": [
    "print(\"Size: {}\".format(vtree.size()))"
   ]
  },
  {
   "cell_type": "code",
   "execution_count": null,
   "metadata": {
    "ExecuteTime": {
     "end_time": "2017-09-21T11:30:38.549642Z",
     "start_time": "2017-09-21T11:30:37.630966Z"
    },
    "hidden": true
   },
   "outputs": [],
   "source": [
    "Source(vtree.dot())"
   ]
  },
  {
   "cell_type": "markdown",
   "metadata": {
    "collapsed": true
   },
   "source": [
    "## SDD Manager"
   ]
  },
  {
   "cell_type": "markdown",
   "metadata": {},
   "source": [
    "Ask for documentation:"
   ]
  },
  {
   "cell_type": "code",
   "execution_count": null,
   "metadata": {
    "ExecuteTime": {
     "end_time": "2018-03-16T21:12:11.686055Z",
     "start_time": "2018-03-16T21:12:11.681551Z"
    },
    "collapsed": true
   },
   "outputs": [],
   "source": [
    "SddManager?"
   ]
  },
  {
   "cell_type": "markdown",
   "metadata": {},
   "source": [
    "Create new manager with four variables A, B, C, and D"
   ]
  },
  {
   "cell_type": "code",
   "execution_count": null,
   "metadata": {
    "ExecuteTime": {
     "end_time": "2018-03-16T21:23:18.590450Z",
     "start_time": "2018-03-16T21:23:18.581499Z"
    }
   },
   "outputs": [],
   "source": [
    "mgr = SddManager(var_count=4)\n",
    "a, b, c, d = [mgr.literal(i) for i in range(1,5)]\n",
    "str(a)"
   ]
  },
  {
   "cell_type": "code",
   "execution_count": null,
   "metadata": {
    "ExecuteTime": {
     "end_time": "2018-03-16T21:23:12.524686Z",
     "start_time": "2018-03-16T21:23:12.519766Z"
    }
   },
   "outputs": [],
   "source": [
    "mgr.is_var_used(-2)"
   ]
  },
  {
   "cell_type": "markdown",
   "metadata": {},
   "source": [
    "Create the formula $(A \\land B) \\lor (C \\land D)$"
   ]
  },
  {
   "cell_type": "code",
   "execution_count": null,
   "metadata": {
    "ExecuteTime": {
     "end_time": "2018-03-16T21:12:26.227887Z",
     "start_time": "2018-03-16T21:12:26.110206Z"
    }
   },
   "outputs": [],
   "source": [
    "fab   = mgr.conjoin(a, b)\n",
    "fcd   = mgr.conjoin(c, d)\n",
    "fabcd = mgr.disjoin(fab, fcd)\n",
    "str(fcd)"
   ]
  },
  {
   "cell_type": "code",
   "execution_count": null,
   "metadata": {
    "ExecuteTime": {
     "end_time": "2017-09-21T15:25:36.150220Z",
     "start_time": "2017-09-21T15:25:35.393296Z"
    }
   },
   "outputs": [],
   "source": [
    "Source(fabcd.dot())"
   ]
  },
  {
   "cell_type": "markdown",
   "metadata": {},
   "source": [
    "Use shorter syntax by mapping and/or to */+"
   ]
  },
  {
   "cell_type": "code",
   "execution_count": null,
   "metadata": {
    "ExecuteTime": {
     "end_time": "2017-09-21T15:25:45.333806Z",
     "start_time": "2017-09-21T15:25:45.329098Z"
    },
    "collapsed": true
   },
   "outputs": [],
   "source": [
    "mgr = SddManager(var_count=4)\n",
    "a, b, c, d = [mgr.literal(i) for i in range(1,5)]"
   ]
  },
  {
   "cell_type": "code",
   "execution_count": null,
   "metadata": {
    "ExecuteTime": {
     "end_time": "2017-09-21T15:25:50.920504Z",
     "start_time": "2017-09-21T15:25:50.240360Z"
    }
   },
   "outputs": [],
   "source": [
    "fabcd = (a*b) + (c*d)\n",
    "Source(fabcd.dot())"
   ]
  },
  {
   "cell_type": "markdown",
   "metadata": {},
   "source": [
    "## Examples"
   ]
  },
  {
   "cell_type": "markdown",
   "metadata": {},
   "source": [
    "### Example: API documentation example 1"
   ]
  },
  {
   "cell_type": "code",
   "execution_count": null,
   "metadata": {
    "ExecuteTime": {
     "end_time": "2017-09-21T11:30:54.953224Z",
     "start_time": "2017-09-21T11:30:54.947107Z"
    },
    "collapsed": true
   },
   "outputs": [],
   "source": [
    "var_count = 4\n",
    "var_order = array(\"l\", [2,1,4,3])\n",
    "tree_type = \"balanced\""
   ]
  },
  {
   "cell_type": "code",
   "execution_count": null,
   "metadata": {
    "ExecuteTime": {
     "end_time": "2017-09-21T11:30:54.964957Z",
     "start_time": "2017-09-21T11:30:54.958391Z"
    },
    "collapsed": true
   },
   "outputs": [],
   "source": [
    "vtree = Vtree(var_count=var_count, var_order=var_order, type=tree_type.encode())"
   ]
  },
  {
   "cell_type": "code",
   "execution_count": null,
   "metadata": {
    "ExecuteTime": {
     "end_time": "2017-09-21T11:30:56.033937Z",
     "start_time": "2017-09-21T11:30:54.969350Z"
    }
   },
   "outputs": [],
   "source": [
    "Source(vtree.dot())"
   ]
  },
  {
   "cell_type": "code",
   "execution_count": null,
   "metadata": {
    "ExecuteTime": {
     "end_time": "2017-09-21T11:30:56.041169Z",
     "start_time": "2017-09-21T11:30:56.036927Z"
    },
    "collapsed": true
   },
   "outputs": [],
   "source": [
    "mgr = SddManager(vtree=vtree)"
   ]
  },
  {
   "cell_type": "markdown",
   "metadata": {},
   "source": [
    "construct a formula $(A \\land B) \\lor (B \\land C) \\lor (C \\land D)$"
   ]
  },
  {
   "cell_type": "code",
   "execution_count": null,
   "metadata": {
    "ExecuteTime": {
     "end_time": "2017-09-21T11:30:56.050981Z",
     "start_time": "2017-09-21T11:30:56.045044Z"
    },
    "collapsed": true
   },
   "outputs": [],
   "source": [
    "f_a = mgr.literal(1)\n",
    "f_b = mgr.literal(2)\n",
    "f_c = mgr.literal(3)\n",
    "f_d = mgr.literal(4)"
   ]
  },
  {
   "cell_type": "code",
   "execution_count": null,
   "metadata": {
    "ExecuteTime": {
     "end_time": "2017-09-21T11:30:56.061701Z",
     "start_time": "2017-09-21T11:30:56.053397Z"
    }
   },
   "outputs": [],
   "source": [
    "str(f_a)"
   ]
  },
  {
   "cell_type": "code",
   "execution_count": null,
   "metadata": {
    "ExecuteTime": {
     "end_time": "2017-09-21T11:30:56.067789Z",
     "start_time": "2017-09-21T11:30:56.064376Z"
    },
    "collapsed": true
   },
   "outputs": [],
   "source": [
    "alpha = mgr.false()"
   ]
  },
  {
   "cell_type": "code",
   "execution_count": null,
   "metadata": {
    "ExecuteTime": {
     "end_time": "2017-09-21T11:30:56.076241Z",
     "start_time": "2017-09-21T11:30:56.070569Z"
    },
    "collapsed": true
   },
   "outputs": [],
   "source": [
    "beta  = mgr.conjoin(f_a,f_b)\n",
    "alpha = mgr.disjoin(alpha,beta)\n",
    "beta  = mgr.conjoin(f_b,f_c)"
   ]
  },
  {
   "cell_type": "code",
   "execution_count": null,
   "metadata": {
    "ExecuteTime": {
     "end_time": "2017-09-21T11:30:56.912040Z",
     "start_time": "2017-09-21T11:30:56.078572Z"
    }
   },
   "outputs": [],
   "source": [
    "Source(mgr.dot(beta))"
   ]
  },
  {
   "cell_type": "code",
   "execution_count": null,
   "metadata": {
    "ExecuteTime": {
     "end_time": "2017-09-21T11:30:56.920303Z",
     "start_time": "2017-09-21T11:30:56.915295Z"
    },
    "collapsed": true
   },
   "outputs": [],
   "source": [
    "alpha = mgr.disjoin(alpha,beta)\n",
    "beta  = mgr.conjoin(f_c,f_d)\n",
    "alpha = mgr.disjoin(alpha,beta)"
   ]
  },
  {
   "cell_type": "code",
   "execution_count": null,
   "metadata": {
    "ExecuteTime": {
     "end_time": "2017-09-21T11:30:57.828426Z",
     "start_time": "2017-09-21T11:30:56.923230Z"
    }
   },
   "outputs": [],
   "source": [
    "Source(alpha.dot())"
   ]
  },
  {
   "cell_type": "markdown",
   "metadata": {
    "heading_collapsed": true
   },
   "source": [
    "### Example: Load from CNF file"
   ]
  },
  {
   "cell_type": "code",
   "execution_count": null,
   "metadata": {
    "ExecuteTime": {
     "end_time": "2017-09-21T15:26:02.304519Z",
     "start_time": "2017-09-21T15:26:02.297655Z"
    },
    "hidden": true
   },
   "outputs": [],
   "source": [
    "mgr = SddManager()\n",
    "cnf_str = \"\"\"p cnf 6 3\n",
    "1 4 0\n",
    "-1 2 5 0\n",
    "-1 -2 3 6 0\n",
    "\"\"\"\n",
    "f = mgr.cnf_from_string(cnf_str)"
   ]
  },
  {
   "cell_type": "code",
   "execution_count": null,
   "metadata": {
    "ExecuteTime": {
     "end_time": "2017-09-21T11:30:58.869472Z",
     "start_time": "2017-09-21T11:30:57.846083Z"
    },
    "hidden": true
   },
   "outputs": [],
   "source": [
    "Source(f.dot())"
   ]
  },
  {
   "cell_type": "markdown",
   "metadata": {
    "hidden": true
   },
   "source": [
    "#### Change the SDD after loading the CNF"
   ]
  },
  {
   "cell_type": "code",
   "execution_count": null,
   "metadata": {
    "ExecuteTime": {
     "end_time": "2017-09-21T11:30:58.878282Z",
     "start_time": "2017-09-21T11:30:58.872059Z"
    },
    "hidden": true
   },
   "outputs": [],
   "source": [
    "print(f\"Var count before: {mgr.var_count()}\")\n",
    "mgr.add_var_after_last()\n",
    "mgr.add_var_after_last()\n",
    "print(f\"Var count after:  {mgr.var_count()}\")"
   ]
  },
  {
   "cell_type": "code",
   "execution_count": null,
   "metadata": {
    "ExecuteTime": {
     "end_time": "2017-09-21T11:30:59.910677Z",
     "start_time": "2017-09-21T11:30:58.881795Z"
    },
    "hidden": true
   },
   "outputs": [],
   "source": [
    "g = mgr.literal(7)\n",
    "h = mgr.literal(8)\n",
    "\n",
    "fp = mgr.conjoin(g, h)\n",
    "Source(fp.dot())"
   ]
  },
  {
   "cell_type": "code",
   "execution_count": null,
   "metadata": {
    "ExecuteTime": {
     "end_time": "2017-09-21T11:31:00.862003Z",
     "start_time": "2017-09-21T11:30:59.914097Z"
    },
    "hidden": true
   },
   "outputs": [],
   "source": [
    "fpp = mgr.disjoin(f, fp)\n",
    "Source(fpp.dot())"
   ]
  },
  {
   "cell_type": "markdown",
   "metadata": {
    "heading_collapsed": true
   },
   "source": [
    "### Example: API documentation example 6"
   ]
  },
  {
   "cell_type": "code",
   "execution_count": null,
   "metadata": {
    "ExecuteTime": {
     "end_time": "2017-09-21T11:31:01.721235Z",
     "start_time": "2017-09-21T11:31:00.866443Z"
    },
    "hidden": true
   },
   "outputs": [],
   "source": [
    "vtree = Vtree(filename=\"sdd/lib/sdd-1.1.1/examples/input/opt-swap.vtree\".encode())\n",
    "Source(vtree.dot())"
   ]
  },
  {
   "cell_type": "code",
   "execution_count": null,
   "metadata": {
    "ExecuteTime": {
     "end_time": "2017-09-21T11:31:01.734666Z",
     "start_time": "2017-09-21T11:31:01.723713Z"
    },
    "hidden": true
   },
   "outputs": [],
   "source": [
    "mgr = SddManager(vtree=vtree)\n",
    "mgr.initialize_search_state()\n",
    "alpha = mgr.read(\"sdd/lib/sdd-1.1.1/examples/input/opt-swap.sdd\".encode())\n",
    "print(f\"Size alpha: {alpha.size()}\")"
   ]
  },
  {
   "cell_type": "code",
   "execution_count": null,
   "metadata": {
    "ExecuteTime": {
     "end_time": "2017-09-21T11:31:02.690171Z",
     "start_time": "2017-09-21T11:31:01.738841Z"
    },
    "hidden": true
   },
   "outputs": [],
   "source": [
    "Source(alpha.dot())"
   ]
  },
  {
   "cell_type": "code",
   "execution_count": null,
   "metadata": {
    "ExecuteTime": {
     "end_time": "2017-09-21T11:31:02.694931Z",
     "start_time": "2017-09-21T11:31:02.692196Z"
    },
    "collapsed": true,
    "hidden": true
   },
   "outputs": [],
   "source": [
    "alpha.ref()"
   ]
  },
  {
   "cell_type": "markdown",
   "metadata": {
    "hidden": true
   },
   "source": [
    "Minimize the SDD"
   ]
  },
  {
   "cell_type": "code",
   "execution_count": null,
   "metadata": {
    "ExecuteTime": {
     "end_time": "2017-09-21T11:31:02.702994Z",
     "start_time": "2017-09-21T11:31:02.696977Z"
    },
    "hidden": true
   },
   "outputs": [],
   "source": [
    "mgr.minimize()\n",
    "print(f\"Size alpha: {alpha.size()}\")"
   ]
  },
  {
   "cell_type": "code",
   "execution_count": null,
   "metadata": {
    "ExecuteTime": {
     "end_time": "2017-09-21T11:31:03.436276Z",
     "start_time": "2017-09-21T11:31:02.705495Z"
    },
    "hidden": true
   },
   "outputs": [],
   "source": [
    "Source(alpha.dot())"
   ]
  },
  {
   "cell_type": "markdown",
   "metadata": {
    "hidden": true
   },
   "source": [
    "Show the new vtree after minimization."
   ]
  },
  {
   "cell_type": "code",
   "execution_count": null,
   "metadata": {
    "ExecuteTime": {
     "end_time": "2017-09-21T11:31:04.323634Z",
     "start_time": "2017-09-21T11:31:03.438465Z"
    },
    "hidden": true
   },
   "outputs": [],
   "source": [
    "new_vtree = mgr.vtree()\n",
    "Source(new_vtree.dot())"
   ]
  },
  {
   "cell_type": "markdown",
   "metadata": {
    "hidden": true
   },
   "source": [
    "Augment the SDD"
   ]
  },
  {
   "cell_type": "code",
   "execution_count": null,
   "metadata": {
    "ExecuteTime": {
     "end_time": "2017-09-21T11:31:04.331460Z",
     "start_time": "2017-09-21T11:31:04.326424Z"
    },
    "hidden": true
   },
   "outputs": [],
   "source": [
    "beta = alpha * (mgr.literal(4) + mgr.literal(5))\n",
    "print(f\"Size beta: {beta.size()}\")"
   ]
  },
  {
   "cell_type": "code",
   "execution_count": null,
   "metadata": {
    "ExecuteTime": {
     "end_time": "2017-09-21T11:31:05.321884Z",
     "start_time": "2017-09-21T11:31:04.335462Z"
    },
    "hidden": true
   },
   "outputs": [],
   "source": [
    "Source(beta.dot())"
   ]
  },
  {
   "cell_type": "markdown",
   "metadata": {
    "hidden": true
   },
   "source": [
    "Perform minimization again on new SDD"
   ]
  },
  {
   "cell_type": "code",
   "execution_count": null,
   "metadata": {
    "ExecuteTime": {
     "end_time": "2017-09-21T11:31:05.328074Z",
     "start_time": "2017-09-21T11:31:05.324562Z"
    },
    "collapsed": true,
    "hidden": true
   },
   "outputs": [],
   "source": [
    "beta.ref()"
   ]
  },
  {
   "cell_type": "code",
   "execution_count": null,
   "metadata": {
    "ExecuteTime": {
     "end_time": "2017-09-21T11:31:05.341804Z",
     "start_time": "2017-09-21T11:31:05.330185Z"
    },
    "hidden": true
   },
   "outputs": [],
   "source": [
    "mgr.minimize()\n",
    "print(f\"Size: {beta.size()}\")"
   ]
  },
  {
   "cell_type": "code",
   "execution_count": null,
   "metadata": {
    "ExecuteTime": {
     "end_time": "2017-09-21T11:31:06.188118Z",
     "start_time": "2017-09-21T11:31:05.344895Z"
    },
    "hidden": true
   },
   "outputs": [],
   "source": [
    "Source(beta.dot())"
   ]
  },
  {
   "cell_type": "code",
   "execution_count": null,
   "metadata": {
    "ExecuteTime": {
     "end_time": "2017-09-21T11:31:06.193856Z",
     "start_time": "2017-09-21T11:31:06.190390Z"
    },
    "collapsed": true,
    "hidden": true
   },
   "outputs": [],
   "source": [
    "beta.deref()"
   ]
  },
  {
   "cell_type": "markdown",
   "metadata": {
    "ExecuteTime": {
     "end_time": "2017-09-22T08:43:00.203500Z",
     "start_time": "2017-09-22T08:43:00.199346Z"
    },
    "collapsed": true
   },
   "source": [
    "### Example: WMC"
   ]
  },
  {
   "cell_type": "code",
   "execution_count": null,
   "metadata": {
    "ExecuteTime": {
     "end_time": "2017-09-22T09:48:36.873389Z",
     "start_time": "2017-09-22T09:48:36.868572Z"
    },
    "collapsed": true
   },
   "outputs": [],
   "source": [
    "mgr = SddManager(var_count=4)\n",
    "a, b, c, d = [mgr.literal(i) for i in range(1,5)]\n",
    "f = (a*b) + (c*d)"
   ]
  },
  {
   "cell_type": "code",
   "execution_count": null,
   "metadata": {
    "ExecuteTime": {
     "start_time": "2017-09-22T09:09:16.457Z"
    },
    "collapsed": true
   },
   "outputs": [],
   "source": [
    "#f.is_literal() # TODO: this crashes"
   ]
  },
  {
   "cell_type": "code",
   "execution_count": null,
   "metadata": {
    "ExecuteTime": {
     "end_time": "2017-09-22T09:55:41.074048Z",
     "start_time": "2017-09-22T09:55:41.068764Z"
    }
   },
   "outputs": [],
   "source": [
    "wmc = f.wmc(log_mode=True)\n",
    "math.exp(wmc.literal_weight(a.literal)), math.exp(wmc.literal_weight(0))"
   ]
  },
  {
   "cell_type": "code",
   "execution_count": null,
   "metadata": {
    "ExecuteTime": {
     "end_time": "2017-09-22T09:52:08.492163Z",
     "start_time": "2017-09-22T09:52:08.487942Z"
    }
   },
   "outputs": [],
   "source": [
    "w = wmc.propagate()\n",
    "print(f\"Number of models: {int(math.exp(w))}\")"
   ]
  },
  {
   "cell_type": "code",
   "execution_count": null,
   "metadata": {
    "ExecuteTime": {
     "end_time": "2017-09-22T09:54:18.932520Z",
     "start_time": "2017-09-22T09:54:18.928546Z"
    },
    "collapsed": true
   },
   "outputs": [],
   "source": [
    "wmc.set_literal_weight(a.literal, math.log(0.5))\n",
    "wmc.set_literal_weight(-a.literal, math.log(0.5))"
   ]
  },
  {
   "cell_type": "code",
   "execution_count": null,
   "metadata": {
    "ExecuteTime": {
     "end_time": "2017-09-22T09:54:19.451011Z",
     "start_time": "2017-09-22T09:54:19.445706Z"
    }
   },
   "outputs": [],
   "source": [
    "w = wmc.propagate()\n",
    "print(f\"Weighted model count: {math.exp(w)}\")"
   ]
  },
  {
   "cell_type": "markdown",
   "metadata": {},
   "source": [
    "## Conclusion"
   ]
  },
  {
   "cell_type": "code",
   "execution_count": null,
   "metadata": {
    "collapsed": true
   },
   "outputs": [],
   "source": []
  }
 ],
 "metadata": {
  "kernelspec": {
   "display_name": "Python 3",
   "language": "python",
   "name": "python3"
  },
  "language_info": {
   "codemirror_mode": {
    "name": "ipython",
    "version": 3
   },
   "file_extension": ".py",
   "mimetype": "text/x-python",
   "name": "python",
   "nbconvert_exporter": "python",
   "pygments_lexer": "ipython3",
   "version": "3.6.4"
  },
  "nav_menu": {},
  "toc": {
   "navigate_menu": true,
   "number_sections": true,
   "sideBar": true,
   "threshold": 6,
   "toc_cell": false,
   "toc_section_display": "block",
   "toc_window_display": false
  }
 },
 "nbformat": 4,
 "nbformat_minor": 2
}
